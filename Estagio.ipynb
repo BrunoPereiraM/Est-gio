{
 "cells": [
  {
   "cell_type": "markdown",
   "metadata": {},
   "source": [
    "1) Dado a sequência de Fibonacci, onde se inicia por 0 e 1 e o próximo valor sempre será a soma dos 2 valores anteriores (exemplo: 0, 1, 1, 2, 3, 5, 8, 13, 21, 34...), escreva um programa na linguagem que desejar onde, informado um número, ele calcule a sequência de Fibonacci e retorne uma mensagem avisando se o número informado pertence ou não a sequência.\n",
    "\n",
    "IMPORTANTE: Esse número pode ser informado através de qualquer entrada de sua preferência ou pode ser previamente definido no código;"
   ]
  },
  {
   "cell_type": "code",
   "execution_count": 5,
   "metadata": {},
   "outputs": [
    {
     "name": "stdout",
     "output_type": "stream",
     "text": [
      "O número 3 pertence à sequência de Fibonacci.\n"
     ]
    }
   ],
   "source": [
    "def is_fibonacci(n):\n",
    "    # Função para verificar se um número está na sequência de Fibonacci\n",
    "    a, b = 0, 1\n",
    "    while a < n:\n",
    "        a, b = b, a + b\n",
    "    return a == n\n",
    "\n",
    "# Defina o número a ser verificado\n",
    "numero_checar = int(input(\"Digite um número: \"))\n",
    "\n",
    "# Verifique se o número está na sequência de Fibonacci e imprima o resultado\n",
    "if is_fibonacci(numero_checar):\n",
    "    print(f\"O número {numero_checar} pertence à sequência de Fibonacci.\")\n",
    "else:\n",
    "    print(f\"O número {numero_checar} não pertence à sequência de Fibonacci.\")"
   ]
  },
  {
   "cell_type": "markdown",
   "metadata": {},
   "source": [
    "2) Escreva um programa que verifique, em uma string, a existência da letra ‘a’, seja maiúscula ou minúscula, além de informar a quantidade de vezes em que ela ocorre.\n",
    "\n",
    "IMPORTANTE: Essa string pode ser informada através de qualquer entrada de sua preferência ou pode ser previamente definida no código;"
   ]
  },
  {
   "cell_type": "code",
   "execution_count": 8,
   "metadata": {},
   "outputs": [
    {
     "name": "stdout",
     "output_type": "stream",
     "text": [
      "A letra 'a' existe na string.\n",
      "A letra 'a' ocorre 4 vezes na string.\n"
     ]
    }
   ],
   "source": [
    "# Define uma string\n",
    "texto = input(\"Escreva uma frase: \")\n",
    "\n",
    "# Converte a string para minúsculas para contar tanto 'a' quanto 'A'\n",
    "texto_minusculo = texto.lower()\n",
    "\n",
    "# Conta as ocorrências de 'a'\n",
    "contagem_de_a = texto_minusculo.count('a')\n",
    "\n",
    "# Verifica se 'a' existe na string\n",
    "existe = 'a' in texto_minusculo\n",
    "\n",
    "# Imprime os resultados\n",
    "print(f\"A letra 'a' {'existe' if existe else 'não existe'} na string.\")\n",
    "print(f\"A letra 'a' ocorre {contagem_de_a} vezes na string.\")"
   ]
  },
  {
   "cell_type": "markdown",
   "metadata": {},
   "source": [
    "3) Observe o trecho de código abaixo: int INDICE = 12, SOMA = 0, K = 1; enquanto K < INDICE faça { K = K + 1; SOMA = SOMA + K; } imprimir(SOMA);\n",
    "\n",
    "Ao final do processamento, qual será o valor da variável SOMA?"
   ]
  },
  {
   "cell_type": "code",
   "execution_count": 15,
   "metadata": {},
   "outputs": [
    {
     "ename": "SyntaxError",
     "evalue": "invalid syntax (3532508311.py, line 2)",
     "output_type": "error",
     "traceback": [
      "\u001b[1;36m  Cell \u001b[1;32mIn[15], line 2\u001b[1;36m\u001b[0m\n\u001b[1;33m    int INDICE = 12, SOMA = 0, K = 1;\u001b[0m\n\u001b[1;37m        ^\u001b[0m\n\u001b[1;31mSyntaxError\u001b[0m\u001b[1;31m:\u001b[0m invalid syntax\n"
     ]
    }
   ],
   "source": [
    "# Dá erro\n",
    "int INDICE = 12, SOMA = 0, K = 1;\n",
    "while K < INDICE { \n",
    "    K = K + 1; \n",
    "    SOMA = SOMA + K; \n",
    "}\n",
    "print(SOMA);"
   ]
  },
  {
   "cell_type": "code",
   "execution_count": 16,
   "metadata": {},
   "outputs": [
    {
     "name": "stdout",
     "output_type": "stream",
     "text": [
      "A variável soma é  77\n"
     ]
    }
   ],
   "source": [
    "# Corrigi\n",
    "INDICE = 12\n",
    "SOMA = 0\n",
    "K = 1\n",
    "\n",
    "while K < INDICE:\n",
    "    K = K + 1\n",
    "    SOMA = SOMA + K\n",
    "\n",
    "print(\"A variável soma é \", SOMA)"
   ]
  },
  {
   "cell_type": "markdown",
   "metadata": {},
   "source": [
    "4) Descubra a lógica e complete o próximo elemento:\n",
    "\n",
    "    a) 1, 3, 5, 7, ___\n",
    "\n",
    "    b) 2, 4, 8, 16, 32, 64, ____\n",
    "\n",
    "    c) 0, 1, 4, 9, 16, 25, 36, ____\n",
    "\n",
    "    d) 4, 16, 36, 64, ____\n",
    "\n",
    "    e) 1, 1, 2, 3, 5, 8, ____\n",
    "    \n",
    "    f) 2,10, 12, 16, 17, 18, 19, ____"
   ]
  },
  {
   "cell_type": "code",
   "execution_count": 18,
   "metadata": {},
   "outputs": [
    {
     "name": "stdout",
     "output_type": "stream",
     "text": [
      "{'a': 9, 'b': 128, 'c': 49, 'd': 64, 'e': 13, 'f': 20}\n"
     ]
    }
   ],
   "source": [
    "def logica(sequencia):\n",
    "    if sequencia == 'a':\n",
    "        # Sequência a: 1, 3, 5, 7, ___\n",
    "        seq = [1, 3, 5, 7]\n",
    "        proximo_elem = seq[-1] + 2\n",
    "    elif sequencia == 'b':\n",
    "        # Sequência b: 2, 4, 8, 16, 32, 64, ____\n",
    "        seq = [2, 4, 8, 16, 32, 64]\n",
    "        proximo_elem = seq[-1] * 2\n",
    "    elif sequencia == 'c':\n",
    "        # Sequência c: 0, 1, 4, 9, 16, 25, 36, ____\n",
    "        seq = [0, 1, 4, 9, 16, 25, 36]\n",
    "        proximo_elem = (len(seq)) ** 2\n",
    "    elif sequencia == 'd':\n",
    "        # Sequência d: 4, 16, 36, 64, ____\n",
    "        seq = [4, 16, 36, 64]\n",
    "        proximo_elem = (len(seq) * 2) ** 2\n",
    "    elif sequencia == 'e':\n",
    "        # Sequência e: 1, 1, 2, 3, 5, 8, ____\n",
    "        seq = [1, 1, 2, 3, 5, 8]\n",
    "        proximo_elem = seq[-1] + seq[-2]\n",
    "    elif sequencia == 'f':\n",
    "        # Sequência f: 2, 10, 12, 16, 17, 18, 19, ____\n",
    "        seq = [2, 10, 12, 16, 17, 18, 19]\n",
    "        proximo_elem = seq[-1] + (20 - seq[-1])\n",
    "    else:\n",
    "        proximo_elem = None\n",
    "    return proximo_elem\n",
    "\n",
    "# Testando a função com todas as sequências\n",
    "sequencias = ['a', 'b', 'c', 'd', 'e', 'f']\n",
    "resultados = {seq: logica(seq) for seq in sequencias}\n",
    "\n",
    "print(resultados)"
   ]
  },
  {
   "cell_type": "markdown",
   "metadata": {},
   "source": [
    "5) Você está em uma sala com três interruptores, cada um conectado a uma lâmpada em salas diferentes. Você não pode ver as lâmpadas da sala em que está, mas pode ligar e desligar os interruptores quantas vezes quiser. Seu objetivo é descobrir qual interruptor controla qual lâmpada. Como você faria para descobrir, usando apenas duas idas até uma das salas das lâmpadas, qual interruptor controla cada lâmpada?  "
   ]
  },
  {
   "cell_type": "code",
   "execution_count": 19,
   "metadata": {},
   "outputs": [
    {
     "name": "stdout",
     "output_type": "stream",
     "text": [
      "['Lâmpada 1 está ligada pelo interruptor 3', 'Lâmpada 2 está ligada pelo interruptor 2', 'Lâmpada 3 está ligada pelo interruptor 3']\n"
     ]
    }
   ],
   "source": [
    "class Lampada:\n",
    "    def __init__(self):\n",
    "        self.estado = 'desligada'\n",
    "        self.temperatura = 'fria'\n",
    "\n",
    "    def ligar(self):\n",
    "        self.estado = 'ligada'\n",
    "        self.temperatura = 'quente'\n",
    "\n",
    "    def desligar(self):\n",
    "        self.estado = 'desligada'\n",
    "        self.temperatura = 'morna'\n",
    "\n",
    "    def esfriar(self):\n",
    "        if self.estado == 'desligada':\n",
    "            self.temperatura = 'fria'\n",
    "\n",
    "class Interruptor:\n",
    "    def __init__(self, lampada):\n",
    "        self.lampada = lampada\n",
    "\n",
    "    def ligar(self):\n",
    "        self.lampada.ligar()\n",
    "\n",
    "    def desligar(self):\n",
    "        self.lampada.desligar()\n",
    "\n",
    "# Criando as lâmpadas\n",
    "lampada1 = Lampada()\n",
    "lampada2 = Lampada()\n",
    "lampada3 = Lampada()\n",
    "\n",
    "# Criando os interruptores e associando às lâmpadas\n",
    "interruptor1 = Interruptor(lampada1)\n",
    "interruptor2 = Interruptor(lampada2)\n",
    "interruptor3 = Interruptor(lampada3)\n",
    "\n",
    "# Primeira ida à sala das lâmpadas\n",
    "interruptor1.ligar()\n",
    "# Esperar alguns minutos\n",
    "import time\n",
    "time.sleep(2)  # Simulando a espera de alguns minutos\n",
    "interruptor1.desligar()\n",
    "interruptor2.ligar()\n",
    "\n",
    "# Segunda ida à sala das lâmpadas\n",
    "lampadas = [lampada1, lampada2, lampada3]\n",
    "resultados = []\n",
    "\n",
    "for i, lampada in enumerate(lampadas, start=1):\n",
    "    if lampada.estado == 'ligada':\n",
    "        resultados.append(f\"Lâmpada {i} está ligada pelo interruptor 2\")\n",
    "    elif lampada.temperatura == 'quente':\n",
    "        resultados.append(f\"Lâmpada {i} está ligada pelo interruptor 1\")\n",
    "    else:\n",
    "        resultados.append(f\"Lâmpada {i} está ligada pelo interruptor 3\")\n",
    "\n",
    "print(resultados)"
   ]
  }
 ],
 "metadata": {
  "kernelspec": {
   "display_name": "Python 3",
   "language": "python",
   "name": "python3"
  },
  "language_info": {
   "codemirror_mode": {
    "name": "ipython",
    "version": 3
   },
   "file_extension": ".py",
   "mimetype": "text/x-python",
   "name": "python",
   "nbconvert_exporter": "python",
   "pygments_lexer": "ipython3",
   "version": "3.11.9"
  }
 },
 "nbformat": 4,
 "nbformat_minor": 2
}
